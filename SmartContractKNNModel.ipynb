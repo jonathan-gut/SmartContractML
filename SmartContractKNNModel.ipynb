{
 "cells": [
  {
   "cell_type": "code",
   "execution_count": 120,
   "id": "5b7454ea",
   "metadata": {},
   "outputs": [],
   "source": [
    "import os\n",
    "from solcx import compile_files, install_solc, get_installed_solc_versions\n",
    "import re\n",
    "import os\n",
    "import pandas as pd\n",
    "\n",
    "# Function to extract the pragma version from a Solidity file, defaulting to 0.4.23\n",
    "def extract_solidity_version(file_path):\n",
    "    pragma_pattern = re.compile(r'pragma solidity (\\^?)(\\d+\\.\\d+\\.\\d+);')\n",
    "    with open(file_path, 'r') as file:\n",
    "        for line in file:\n",
    "            pragma_match = pragma_pattern.search(line)\n",
    "            if pragma_match:\n",
    "                # Ignore the range indicator and return the version part\n",
    "                return pragma_match.group(2)\n",
    "    # Return default version if no pragma is found\n",
    "    return '0.4.23'\n",
    "\n",
    "\n",
    "total = 1713\n",
    "# Function to traverse directories and process .sol files\n",
    "def process_directory(parent_directory):\n",
    "    #total_files = sum(len(files) for _, _, files in os.walk(parent_directory) if any(file.endswith('.sol') for file in files))\n",
    "    asts = {}  \n",
    "    processed_files = 0  # Counter for the number of files processed into ASTs\n",
    "\n",
    "    i = 1\n",
    "    for root, dirs, files in os.walk(parent_directory):\n",
    "        subdirectory = os.path.relpath(root, parent_directory)\n",
    "        for filename in files:\n",
    "            if filename.endswith('.sol'):\n",
    "                file_path = os.path.join(root, filename)\n",
    "                print(f\"Converting Solidity Files to AST : {i}/{total}\", end=\"\\r\", flush=True)\n",
    "                i += 1\n",
    "\n",
    "                sol_version = extract_solidity_version(file_path)\n",
    "\n",
    "                if sol_version not in get_installed_solc_versions():\n",
    "                    install_solc(sol_version)\n",
    "\n",
    "                compiled_sol = compile_files([file_path], solc_version=sol_version, output_values=[\"ast\"])\n",
    "\n",
    "                if subdirectory not in asts:\n",
    "                    asts[subdirectory] = {}\n",
    "\n",
    "                for contract_name, compiled_data in compiled_sol.items():\n",
    "                    if 'ast' in compiled_data:\n",
    "                        asts[subdirectory][contract_name] = compiled_data['ast']\n",
    "                        processed_files += 1  # Increment only when an AST is successfully added\n",
    "\n",
    "    print(\"\")\n",
    "    print(f\"Total files processed: {i - 1}\")\n",
    "    print(f\"ASTs successfully added: {processed_files}\")\n",
    "    return asts"
   ]
  },
  {
   "cell_type": "code",
   "execution_count": 121,
   "id": "5ad640dc",
   "metadata": {},
   "outputs": [
    {
     "name": "stdout",
     "output_type": "stream",
     "text": [
      "Converting Solidity Files to AST : 1713/1713\n",
      "Total files processed: 1713\n",
      "ASTs successfully added: 3441\n",
      "\n",
      "\n",
      "----------\n",
      "\n",
      "Contracts and their ASTs loaded\n"
     ]
    }
   ],
   "source": [
    "# Define the parent directory containing subdirectories with .sol files\n",
    "parent_directory = 'dataset'  # Update this to your parent directory\n",
    "asts = process_directory(parent_directory)\n",
    "\n",
    "# Output the loaded contracts and their ASTs organized by subdirectory\n",
    "print(\"\\n\\n----------\\n\")\n",
    "print(\"Contracts and their ASTs loaded\")\n",
    "\n",
    "#asts = {class: {\n",
    "#                         \"CONTRACT NAME\":  {AST1},\n",
    "#                         \"CONTRACT NAME2\": {AST2},\n",
    "#                         ...},\n",
    "#                          \n",
    "#                       }\n"
   ]
  },
  {
   "cell_type": "code",
   "execution_count": 127,
   "id": "8626cd77",
   "metadata": {},
   "outputs": [],
   "source": [
    "def flatten(ast, current_key=None): #Flatten the AST into a single list of [node:value] pairs\n",
    "    node_list = []\n",
    "\n",
    "    if isinstance(ast, list):\n",
    "        for item in ast:\n",
    "            node_list.extend(get_all_nodes_and_values(item, current_key))\n",
    "    elif isinstance(ast, dict):\n",
    "        for key, value in ast.items():\n",
    "            node_list.extend(get_all_nodes_and_values(value, key))\n",
    "    else:\n",
    "        node_list.append((current_key, ast))\n",
    "\n",
    "    return node_list\n",
    "\n",
    "def get_common_nodes(ast_a, ast_b): #Get common nodes between 2 flattened asts\n",
    "    nodes_a = flatten_ast(ast_a)\n",
    "    nodes_b = flatten_ast(ast_b)\n",
    "    \n",
    "    common_nodes = [node for node in nodes_a if node in nodes_b]\n",
    "    return common_nodes\n"
   ]
  },
  {
   "cell_type": "code",
   "execution_count": 134,
   "id": "58050952",
   "metadata": {},
   "outputs": [
    {
     "name": "stdout",
     "output_type": "stream",
     "text": [
      "Processing class: safe\n",
      "Processing class: reentrancy\n",
      "Processing class: unchecked_low_level_calls\n",
      "Processing class: denial_of_service\n",
      "Processing class: access_control\n",
      "Processing class: arithmetic\n",
      "Processing class: time_manipulation\n",
      "Flattened ASTs : 3441/3441\r"
     ]
    }
   ],
   "source": [
    "i = 1\n",
    "total = 3441\n",
    "# Iterate through each classification class\n",
    "for class_name, contracts in asts.items():\n",
    "    print(f\"Processing class: {class_name}\")\n",
    "    \n",
    "    # Iterate through each contract within this class\n",
    "    for contract_name, ast in contracts.items():\n",
    "        print(f\"Flattened ASTs : {i}/{total}\", end=\"\\r\", flush=True)\n",
    "        i+=1\n",
    "        \n",
    "        asts[class_name][contract_name] = flatten(ast)  \n",
    "        \n"
   ]
  },
  {
   "cell_type": "code",
   "execution_count": 135,
   "id": "6007de08",
   "metadata": {},
   "outputs": [
    {
     "name": "stdout",
     "output_type": "stream",
     "text": [
      "<class 'list'>\n"
     ]
    }
   ],
   "source": [
    "\n",
    "        \n"
   ]
  },
  {
   "cell_type": "code",
   "execution_count": null,
   "id": "5171330d",
   "metadata": {},
   "outputs": [],
   "source": []
  }
 ],
 "metadata": {
  "kernelspec": {
   "display_name": "Python 3 (ipykernel)",
   "language": "python",
   "name": "python3"
  },
  "language_info": {
   "codemirror_mode": {
    "name": "ipython",
    "version": 3
   },
   "file_extension": ".py",
   "mimetype": "text/x-python",
   "name": "python",
   "nbconvert_exporter": "python",
   "pygments_lexer": "ipython3",
   "version": "3.11.5"
  }
 },
 "nbformat": 4,
 "nbformat_minor": 5
}
